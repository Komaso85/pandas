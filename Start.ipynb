{
 "cells": [
  {
   "cell_type": "code",
   "execution_count": null,
   "id": "c6b1fa0f",
   "metadata": {},
   "outputs": [],
   "source": [
    "# импортируем pandas как pd"
   ]
  },
  {
   "cell_type": "code",
   "execution_count": 1,
   "id": "e1600a45",
   "metadata": {},
   "outputs": [],
   "source": [
    "import pandas as pd\n",
    "import numpy as np"
   ]
  },
  {
   "cell_type": "code",
   "execution_count": 6,
   "id": "1845f323",
   "metadata": {},
   "outputs": [
    {
     "data": {
      "text/plain": [
       "'1.4.1'"
      ]
     },
     "execution_count": 6,
     "metadata": {},
     "output_type": "execute_result"
    }
   ],
   "source": [
    "# проверяем версию пандас\n",
    "pd.__version__"
   ]
  },
  {
   "cell_type": "code",
   "execution_count": 7,
   "id": "83341b3e",
   "metadata": {},
   "outputs": [],
   "source": [
    "# создаем словарь data и список labels\n",
    "data = {'animal':['cat','cat','snake','dog','dog','cat','snake','cat','dog','dog'],\n",
    "       'age':[2.5, 3, 0.5, np.nan, 5, 2, 4.5, np.nan, 7, 3],\n",
    "       'visits':[1, 3, 2, 3, 2, 3, 1, 1, 2, 1],\n",
    "       'priority':['yes','yes','no','yes','no','no','no','yes','no','no']}\n",
    "\n",
    "labels = ['a','b','c','d','e','f','g','h','i','j']"
   ]
  },
  {
   "cell_type": "code",
   "execution_count": 8,
   "id": "a827e5b8",
   "metadata": {},
   "outputs": [],
   "source": [
    "# Создайте DataFrame из словря data. В качетсве подписей строк используйте список labels.\n",
    "# Результат сохраните в переменную df\n",
    "\n",
    "df = pd.DataFrame(data,index=labels)"
   ]
  },
  {
   "cell_type": "code",
   "execution_count": 16,
   "id": "6b9fc0c1",
   "metadata": {},
   "outputs": [
    {
     "name": "stdout",
     "output_type": "stream",
     "text": [
      "animal\n",
      "2\n",
      "snake\n"
     ]
    }
   ],
   "source": [
    "# Переменная col содержит имя колонки, переменная row содержит имя ИЛИ индекс строки.\n",
    "# Выведити на печать содержимое ячейки\n",
    "\n",
    "col = input()\n",
    "\n",
    "\n",
    "def row():\n",
    "    while True:\n",
    "        try:\n",
    "            row = int(input())\n",
    "            return row\n",
    "        except ValueError:\n",
    "            row = input()\n",
    "            return row\n",
    "row = row()\n",
    "\n",
    "print(df[col][row])"
   ]
  },
  {
   "cell_type": "code",
   "execution_count": null,
   "id": "bd8407b8",
   "metadata": {},
   "outputs": [],
   "source": []
  },
  {
   "cell_type": "code",
   "execution_count": null,
   "id": "58421f82",
   "metadata": {},
   "outputs": [],
   "source": []
  }
 ],
 "metadata": {
  "kernelspec": {
   "display_name": "Python 3 (ipykernel)",
   "language": "python",
   "name": "python3"
  },
  "language_info": {
   "codemirror_mode": {
    "name": "ipython",
    "version": 3
   },
   "file_extension": ".py",
   "mimetype": "text/x-python",
   "name": "python",
   "nbconvert_exporter": "python",
   "pygments_lexer": "ipython3",
   "version": "3.9.2"
  }
 },
 "nbformat": 4,
 "nbformat_minor": 5
}
