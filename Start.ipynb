{
 "cells": [
  {
   "cell_type": "code",
   "execution_count": 2,
   "id": "c6b1fa0f",
   "metadata": {},
   "outputs": [],
   "source": [
    "# импортируем pandas как pd"
   ]
  },
  {
   "cell_type": "code",
   "execution_count": 3,
   "id": "e1600a45",
   "metadata": {},
   "outputs": [],
   "source": [
    "import pandas as pd\n",
    "import numpy as np"
   ]
  },
  {
   "cell_type": "code",
   "execution_count": 4,
   "id": "1845f323",
   "metadata": {},
   "outputs": [
    {
     "data": {
      "text/plain": [
       "'1.4.1'"
      ]
     },
     "execution_count": 4,
     "metadata": {},
     "output_type": "execute_result"
    }
   ],
   "source": [
    "# проверяем версию пандас\n",
    "pd.__version__"
   ]
  },
  {
   "cell_type": "code",
   "execution_count": 5,
   "id": "83341b3e",
   "metadata": {},
   "outputs": [],
   "source": [
    "# создаем словарь data и список labels\n",
    "data = {'animal':['cat','cat','snake','dog','dog','cat','snake','cat','dog','dog'],\n",
    "       'age':[2.5, 3, 0.5, np.nan, 5, 2, 4.5, np.nan, 7, 3],\n",
    "       'visits':[1, 3, 2, 3, 2, 3, 1, 1, 2, 1],\n",
    "       'priority':['yes','yes','no','yes','no','no','no','yes','no','no']}\n",
    "\n",
    "labels = ['a','b','c','d','e','f','g','h','i','j']"
   ]
  },
  {
   "cell_type": "code",
   "execution_count": 6,
   "id": "a827e5b8",
   "metadata": {},
   "outputs": [],
   "source": [
    "# Создайте DataFrame из словря data. В качетсве подписей строк используйте список labels.\n",
    "# Результат сохраните в переменную df\n",
    "\n",
    "df = pd.DataFrame(data,index=labels)"
   ]
  },
  {
   "cell_type": "code",
   "execution_count": 7,
   "id": "6b9fc0c1",
   "metadata": {},
   "outputs": [
    {
     "name": "stdout",
     "output_type": "stream",
     "text": [
      "animal\n",
      "c\n",
      "snake\n"
     ]
    }
   ],
   "source": [
    "# Переменная col содержит имя колонки, переменная row содержит имя ИЛИ индекс строки.\n",
    "# Выведити на печать содержимое ячейки\n",
    "\n",
    "col = input()\n",
    "\n",
    "\n",
    "def row():\n",
    "    row = input()\n",
    "    while True:\n",
    "        try:\n",
    "            row = int(row)\n",
    "            return row\n",
    "        except ValueError:\n",
    "            \n",
    "            return str(row)\n",
    "row = row()\n",
    "\n",
    "print(df[col][row])"
   ]
  },
  {
   "cell_type": "code",
   "execution_count": 8,
   "id": "bd8407b8",
   "metadata": {},
   "outputs": [
    {
     "name": "stdout",
     "output_type": "stream",
     "text": [
      "<class 'pandas.core.frame.DataFrame'>\n",
      "Index: 10 entries, a to j\n",
      "Data columns (total 4 columns):\n",
      " #   Column    Non-Null Count  Dtype  \n",
      "---  ------    --------------  -----  \n",
      " 0   animal    10 non-null     object \n",
      " 1   age       8 non-null      float64\n",
      " 2   visits    10 non-null     int64  \n",
      " 3   priority  10 non-null     object \n",
      "dtypes: float64(1), int64(1), object(2)\n",
      "memory usage: 700.0+ bytes\n"
     ]
    }
   ],
   "source": [
    "# данный метод показывает название колонок, количество ненулевых значений, тип значений в столбцах\n",
    "df.info()"
   ]
  },
  {
   "cell_type": "code",
   "execution_count": 9,
   "id": "58421f82",
   "metadata": {},
   "outputs": [
    {
     "data": {
      "text/html": [
       "<div>\n",
       "<style scoped>\n",
       "    .dataframe tbody tr th:only-of-type {\n",
       "        vertical-align: middle;\n",
       "    }\n",
       "\n",
       "    .dataframe tbody tr th {\n",
       "        vertical-align: top;\n",
       "    }\n",
       "\n",
       "    .dataframe thead th {\n",
       "        text-align: right;\n",
       "    }\n",
       "</style>\n",
       "<table border=\"1\" class=\"dataframe\">\n",
       "  <thead>\n",
       "    <tr style=\"text-align: right;\">\n",
       "      <th></th>\n",
       "      <th>age</th>\n",
       "      <th>visits</th>\n",
       "    </tr>\n",
       "  </thead>\n",
       "  <tbody>\n",
       "    <tr>\n",
       "      <th>count</th>\n",
       "      <td>8.000000</td>\n",
       "      <td>10.000000</td>\n",
       "    </tr>\n",
       "    <tr>\n",
       "      <th>mean</th>\n",
       "      <td>3.437500</td>\n",
       "      <td>1.900000</td>\n",
       "    </tr>\n",
       "    <tr>\n",
       "      <th>std</th>\n",
       "      <td>2.007797</td>\n",
       "      <td>0.875595</td>\n",
       "    </tr>\n",
       "    <tr>\n",
       "      <th>min</th>\n",
       "      <td>0.500000</td>\n",
       "      <td>1.000000</td>\n",
       "    </tr>\n",
       "    <tr>\n",
       "      <th>25%</th>\n",
       "      <td>2.375000</td>\n",
       "      <td>1.000000</td>\n",
       "    </tr>\n",
       "    <tr>\n",
       "      <th>50%</th>\n",
       "      <td>3.000000</td>\n",
       "      <td>2.000000</td>\n",
       "    </tr>\n",
       "    <tr>\n",
       "      <th>75%</th>\n",
       "      <td>4.625000</td>\n",
       "      <td>2.750000</td>\n",
       "    </tr>\n",
       "    <tr>\n",
       "      <th>max</th>\n",
       "      <td>7.000000</td>\n",
       "      <td>3.000000</td>\n",
       "    </tr>\n",
       "  </tbody>\n",
       "</table>\n",
       "</div>"
      ],
      "text/plain": [
       "            age     visits\n",
       "count  8.000000  10.000000\n",
       "mean   3.437500   1.900000\n",
       "std    2.007797   0.875595\n",
       "min    0.500000   1.000000\n",
       "25%    2.375000   1.000000\n",
       "50%    3.000000   2.000000\n",
       "75%    4.625000   2.750000\n",
       "max    7.000000   3.000000"
      ]
     },
     "execution_count": 9,
     "metadata": {},
     "output_type": "execute_result"
    }
   ],
   "source": [
    "# выводит данные в виде таблицы пандас для числовых значений \n",
    "\"\"\"count - количество ненулевых значений\"\"\"\n",
    "df.describe()"
   ]
  },
  {
   "cell_type": "code",
   "execution_count": 10,
   "id": "03e5a55c",
   "metadata": {},
   "outputs": [
    {
     "name": "stdout",
     "output_type": "stream",
     "text": [
      "count    8.000\n",
      "75%      4.625\n",
      "Name: age, dtype: float64\n"
     ]
    }
   ],
   "source": [
    "# вывести количество ненулевых значений столбца age, а также квантиль 75%\n",
    "\n",
    "print(df['age'].describe().loc[['count','75%']])"
   ]
  },
  {
   "cell_type": "code",
   "execution_count": 11,
   "id": "ffffbe0d",
   "metadata": {},
   "outputs": [
    {
     "data": {
      "text/html": [
       "<div>\n",
       "<style scoped>\n",
       "    .dataframe tbody tr th:only-of-type {\n",
       "        vertical-align: middle;\n",
       "    }\n",
       "\n",
       "    .dataframe tbody tr th {\n",
       "        vertical-align: top;\n",
       "    }\n",
       "\n",
       "    .dataframe thead th {\n",
       "        text-align: right;\n",
       "    }\n",
       "</style>\n",
       "<table border=\"1\" class=\"dataframe\">\n",
       "  <thead>\n",
       "    <tr style=\"text-align: right;\">\n",
       "      <th></th>\n",
       "      <th>animal</th>\n",
       "      <th>age</th>\n",
       "      <th>visits</th>\n",
       "      <th>priority</th>\n",
       "    </tr>\n",
       "  </thead>\n",
       "  <tbody>\n",
       "    <tr>\n",
       "      <th>a</th>\n",
       "      <td>cat</td>\n",
       "      <td>2.5</td>\n",
       "      <td>1</td>\n",
       "      <td>yes</td>\n",
       "    </tr>\n",
       "    <tr>\n",
       "      <th>b</th>\n",
       "      <td>cat</td>\n",
       "      <td>3.0</td>\n",
       "      <td>3</td>\n",
       "      <td>yes</td>\n",
       "    </tr>\n",
       "    <tr>\n",
       "      <th>c</th>\n",
       "      <td>snake</td>\n",
       "      <td>0.5</td>\n",
       "      <td>2</td>\n",
       "      <td>no</td>\n",
       "    </tr>\n",
       "  </tbody>\n",
       "</table>\n",
       "</div>"
      ],
      "text/plain": [
       "  animal  age  visits priority\n",
       "a    cat  2.5       1      yes\n",
       "b    cat  3.0       3      yes\n",
       "c  snake  0.5       2       no"
      ]
     },
     "execution_count": 11,
     "metadata": {},
     "output_type": "execute_result"
    }
   ],
   "source": [
    "# вывести первые три строки\n",
    "df.head(3)"
   ]
  },
  {
   "cell_type": "code",
   "execution_count": 12,
   "id": "05bef0d3",
   "metadata": {},
   "outputs": [
    {
     "name": "stdout",
     "output_type": "stream",
     "text": [
      "  animal  age  visits priority\n",
      "a    cat  2.5       1      yes\n",
      "c  snake  0.5       2       no\n",
      "d    dog  NaN       3      yes\n"
     ]
    }
   ],
   "source": [
    "# Выведите на печать строки с индексами 0, 2, 3.\n",
    "print(df.iloc[[0,2,3]])"
   ]
  },
  {
   "cell_type": "code",
   "execution_count": 13,
   "id": "bfbfe5b1",
   "metadata": {},
   "outputs": [],
   "source": [
    "# добавить столбец name в датафрейм df\n",
    "df['name']=['Murzik', 'Pushok', 'Kaa', 'Bobik', 'Strelka', 'Vaska', 'Kaa2', 'Murka', 'Graf', 'Muhtar']"
   ]
  },
  {
   "cell_type": "code",
   "execution_count": 14,
   "id": "aa6128fb",
   "metadata": {},
   "outputs": [
    {
     "name": "stdout",
     "output_type": "stream",
     "text": [
      "      name  age\n",
      "a   Murzik  2.5\n",
      "b   Pushok  3.0\n",
      "c      Kaa  0.5\n",
      "d    Bobik  NaN\n",
      "e  Strelka  5.0\n",
      "f    Vaska  2.0\n",
      "g     Kaa2  4.5\n",
      "h    Murka  NaN\n",
      "i     Graf  7.0\n",
      "j   Muhtar  3.0\n"
     ]
    }
   ],
   "source": [
    "# Выведите на печать только столбцы 'name' и 'age' (гарантируется, что они есть)\n",
    "print(df[['name','age']])"
   ]
  },
  {
   "cell_type": "code",
   "execution_count": 15,
   "id": "b0492865",
   "metadata": {},
   "outputs": [
    {
     "data": {
      "text/html": [
       "<div>\n",
       "<style scoped>\n",
       "    .dataframe tbody tr th:only-of-type {\n",
       "        vertical-align: middle;\n",
       "    }\n",
       "\n",
       "    .dataframe tbody tr th {\n",
       "        vertical-align: top;\n",
       "    }\n",
       "\n",
       "    .dataframe thead th {\n",
       "        text-align: right;\n",
       "    }\n",
       "</style>\n",
       "<table border=\"1\" class=\"dataframe\">\n",
       "  <thead>\n",
       "    <tr style=\"text-align: right;\">\n",
       "      <th></th>\n",
       "      <th>name</th>\n",
       "      <th>age</th>\n",
       "    </tr>\n",
       "  </thead>\n",
       "  <tbody>\n",
       "    <tr>\n",
       "      <th>a</th>\n",
       "      <td>Murzik</td>\n",
       "      <td>2.5</td>\n",
       "    </tr>\n",
       "    <tr>\n",
       "      <th>c</th>\n",
       "      <td>Kaa</td>\n",
       "      <td>0.5</td>\n",
       "    </tr>\n",
       "    <tr>\n",
       "      <th>d</th>\n",
       "      <td>Bobik</td>\n",
       "      <td>NaN</td>\n",
       "    </tr>\n",
       "  </tbody>\n",
       "</table>\n",
       "</div>"
      ],
      "text/plain": [
       "     name  age\n",
       "a  Murzik  2.5\n",
       "c     Kaa  0.5\n",
       "d   Bobik  NaN"
      ]
     },
     "execution_count": 15,
     "metadata": {},
     "output_type": "execute_result"
    }
   ],
   "source": [
    "# Выведите на печать только столбцы 'name' и 'age' И строки 0, 2, 3 (гарантируется, что они есть)\n",
    "df[['name','age']].iloc[[0,2,3]]"
   ]
  },
  {
   "cell_type": "code",
   "execution_count": 16,
   "id": "915b8f2d",
   "metadata": {},
   "outputs": [
    {
     "data": {
      "text/html": [
       "<div>\n",
       "<style scoped>\n",
       "    .dataframe tbody tr th:only-of-type {\n",
       "        vertical-align: middle;\n",
       "    }\n",
       "\n",
       "    .dataframe tbody tr th {\n",
       "        vertical-align: top;\n",
       "    }\n",
       "\n",
       "    .dataframe thead th {\n",
       "        text-align: right;\n",
       "    }\n",
       "</style>\n",
       "<table border=\"1\" class=\"dataframe\">\n",
       "  <thead>\n",
       "    <tr style=\"text-align: right;\">\n",
       "      <th></th>\n",
       "      <th>animal</th>\n",
       "      <th>age</th>\n",
       "      <th>visits</th>\n",
       "      <th>priority</th>\n",
       "      <th>name</th>\n",
       "    </tr>\n",
       "  </thead>\n",
       "  <tbody>\n",
       "    <tr>\n",
       "      <th>e</th>\n",
       "      <td>dog</td>\n",
       "      <td>5.0</td>\n",
       "      <td>2</td>\n",
       "      <td>no</td>\n",
       "      <td>Strelka</td>\n",
       "    </tr>\n",
       "    <tr>\n",
       "      <th>g</th>\n",
       "      <td>snake</td>\n",
       "      <td>4.5</td>\n",
       "      <td>1</td>\n",
       "      <td>no</td>\n",
       "      <td>Kaa2</td>\n",
       "    </tr>\n",
       "    <tr>\n",
       "      <th>i</th>\n",
       "      <td>dog</td>\n",
       "      <td>7.0</td>\n",
       "      <td>2</td>\n",
       "      <td>no</td>\n",
       "      <td>Graf</td>\n",
       "    </tr>\n",
       "  </tbody>\n",
       "</table>\n",
       "</div>"
      ],
      "text/plain": [
       "  animal  age  visits priority     name\n",
       "e    dog  5.0       2       no  Strelka\n",
       "g  snake  4.5       1       no     Kaa2\n",
       "i    dog  7.0       2       no     Graf"
      ]
     },
     "execution_count": 16,
     "metadata": {},
     "output_type": "execute_result"
    }
   ],
   "source": [
    "# Выведите на печать только данные, относящиеся к записям, возраст которых больше, указанного в переменное critical_age.\n",
    "critical_age=3\n",
    "df[df['age']>critical_age]"
   ]
  },
  {
   "cell_type": "code",
   "execution_count": 17,
   "id": "17d28d06",
   "metadata": {},
   "outputs": [
    {
     "name": "stdout",
     "output_type": "stream",
     "text": [
      "Empty DataFrame\n",
      "Columns: [name, age, designation]\n",
      "Index: []\n"
     ]
    }
   ],
   "source": [
    "# Выведите на печать только данные, в которых не заполнен возраст (в графе 'age' стоит null)\n",
    "df1 = pd.DataFrame({'name' : [\"Alex\", \"Bob\", \"Carmen\", \"Diaz\", \"Ella\",\"Forman\", \"Glen\"],\n",
    "                   'age' : [20, 27, 35, 55, 18, 21, 35],\n",
    "                   'designation': [\"VP\", \"CEO\", \"CFO\", \"VP\", \"VP\", \"CEO\", \"MD\"]})\n",
    "\n",
    "print(df1[df1['age'].isnull()])"
   ]
  },
  {
   "cell_type": "code",
   "execution_count": 18,
   "id": "a31794f5",
   "metadata": {},
   "outputs": [
    {
     "name": "stdout",
     "output_type": "stream",
     "text": [
      "  animal  age  visits priority    name\n",
      "a    cat  2.5       1      yes  Murzik\n",
      "f    cat  2.0       3       no   Vaska\n"
     ]
    }
   ],
   "source": [
    "''' Переменная filter_names содержит список имён столбцов по которым происходит фильтрация\n",
    "    Переменная filter_values содержит список из 2 значений по которым происходит фильтрация.\n",
    "    1 значение проверяется на равенство. 2 значение должно быть меньше указанного в фильтре.\n",
    "\n",
    "Выведите только те строки датафрейма, которые удовлетворяют условиям обоих фильтров.\n",
    "\n",
    "В 1 примере мы выводим данные обо всех животных (имя столбца = 'animal'), являющихся кошками (значение = 'cat'),\n",
    "возраст (имя столбца = 'age') которых меньше 3 (значение = 3).\n",
    "'''\n",
    "\n",
    "filter_names = [\"animal\", \"age\"]\n",
    "filter_values = [\"cat\", 3]\n",
    "\n",
    "print(df[(df[filter_names[0]]==filter_values[0])&(df[filter_names[1]]<filter_values[1])])"
   ]
  },
  {
   "cell_type": "code",
   "execution_count": 22,
   "id": "1e826901",
   "metadata": {},
   "outputs": [
    {
     "name": "stdout",
     "output_type": "stream",
     "text": [
      "  animal  age  visits priority    name\n",
      "a    cat  2.5       1      yes  Murzik\n",
      "b    cat  3.0       3      yes  Pushok\n",
      "f    cat  2.0       3       no   Vaska\n",
      "j    dog  3.0       1       no  Muhtar\n"
     ]
    }
   ],
   "source": [
    "'''Переменная age_between содержит 2 числа\n",
    "\n",
    "Выведите только те строки датафрейма, возраст в которых находится в интервале между числами age_between\n",
    "(включая границы)\n",
    "'''\n",
    "\n",
    "age_between=[2,4]\n",
    "\n",
    "print(df.query(f'age>={age_between[0]} & age<={age_between[1]}'))"
   ]
  },
  {
   "cell_type": "code",
   "execution_count": null,
   "id": "f1cebd75",
   "metadata": {},
   "outputs": [],
   "source": []
  }
 ],
 "metadata": {
  "kernelspec": {
   "display_name": "Python 3 (ipykernel)",
   "language": "python",
   "name": "python3"
  },
  "language_info": {
   "codemirror_mode": {
    "name": "ipython",
    "version": 3
   },
   "file_extension": ".py",
   "mimetype": "text/x-python",
   "name": "python",
   "nbconvert_exporter": "python",
   "pygments_lexer": "ipython3",
   "version": "3.9.2"
  }
 },
 "nbformat": 4,
 "nbformat_minor": 5
}
